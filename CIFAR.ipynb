{
 "cells": [
  {
   "cell_type": "code",
   "execution_count": 2,
   "metadata": {},
   "outputs": [
    {
     "name": "stderr",
     "output_type": "stream",
     "text": [
      "Using TensorFlow backend.\n"
     ]
    },
    {
     "name": "stdout",
     "output_type": "stream",
     "text": [
      "x_train shape: (50000, 32, 32, 3)\n",
      "50000 train samples\n",
      "10000 test samples\n"
     ]
    }
   ],
   "source": [
    "\n",
    "from __future__ import print_function\n",
    "import keras\n",
    "from keras.datasets import cifar10\n",
    "from keras.preprocessing.image import ImageDataGenerator\n",
    "from keras.models import Sequential\n",
    "from keras.layers import Dense, Dropout, Activation, Flatten\n",
    "from keras.layers import Conv2D, MaxPooling2D\n",
    "import os\n",
    "\n",
    "batch_size = 32\n",
    "num_classes = 10\n",
    "epochs = 100\n",
    "data_augmentation = True\n",
    "num_predictions = 20\n",
    "save_dir = os.path.join(os.getcwd(), 'saved_models')\n",
    "model_name = 'keras_cifar10_trained_model.h5'\n",
    "\n",
    "# The data, shuffled and split between train and test sets:\n",
    "(x_train, y_train), (x_test, y_test) = cifar10.load_data()\n",
    "print('x_train shape:', x_train.shape)\n",
    "print(x_train.shape[0], 'train samples')\n",
    "print(x_test.shape[0], 'test samples')\n"
   ]
  },
  {
   "cell_type": "code",
   "execution_count": 3,
   "metadata": {},
   "outputs": [
    {
     "data": {
      "text/plain": [
       "[7,\n",
       " 11,\n",
       " 28,\n",
       " 3,\n",
       " 0,\n",
       " 14,\n",
       " 10,\n",
       " 29,\n",
       " 4,\n",
       " 21,\n",
       " 22,\n",
       " 31,\n",
       " 23,\n",
       " 5,\n",
       " 12,\n",
       " 16,\n",
       " 27,\n",
       " 19,\n",
       " 24,\n",
       " 1,\n",
       " 15,\n",
       " 6,\n",
       " 30,\n",
       " 20,\n",
       " 8,\n",
       " 26,\n",
       " 17,\n",
       " 9,\n",
       " 25,\n",
       " 18,\n",
       " 13,\n",
       " 2]"
      ]
     },
     "execution_count": 3,
     "metadata": {},
     "output_type": "execute_result"
    }
   ],
   "source": [
    "x1_train = x_train.copy()\n",
    "x2_train = x_train.copy()\n",
    "x3_train = x_train.copy()\n",
    "\n",
    "#CREATING THE RANDOM LISTS\n",
    "from sklearn.utils import shuffle\n",
    "\n",
    "rdn_list = list(range(0,32))\n",
    "\n",
    "rdn_list_1 = shuffle(rdn_list)\n",
    "rdn_list_2 = shuffle(rdn_list)\n",
    "rdn_list_3 = shuffle(rdn_list)\n",
    "\n",
    "rdn_list_1\n",
    "rdn_list_2\n",
    "rdn_list_3\n"
   ]
  },
  {
   "cell_type": "code",
   "execution_count": 4,
   "metadata": {},
   "outputs": [],
   "source": [
    "#CREATING THE PERMUTATION\n",
    "#1 permutation\n",
    "for index in range(0,x_train.shape[0]):\n",
    "    for i in rdn_list_1:\n",
    "        for j in rdn_list_1:\n",
    "            x1_train[index][rdn_list_1.index(i)][rdn_list_1.index(j)] = x_train[index][i][j]\n",
    "\n",
    "    "
   ]
  },
  {
   "cell_type": "code",
   "execution_count": 5,
   "metadata": {},
   "outputs": [],
   "source": [
    "#2 permutation\n",
    "for index in range(0,x_train.shape[0]):\n",
    "    for i in rdn_list_2:\n",
    "        for j in rdn_list_2:\n",
    "            x2_train[index][rdn_list_2.index(i)][rdn_list_2.index(j)] = x_train[index][i][j]\n",
    "                "
   ]
  },
  {
   "cell_type": "code",
   "execution_count": 6,
   "metadata": {},
   "outputs": [],
   "source": [
    "#3 permutation\n",
    "for index in range(0,x_train.shape[0]):\n",
    "    for i in rdn_list_3:\n",
    "        for j in rdn_list_3:\n",
    "            x3_train[index][rdn_list_3.index(i)][rdn_list_3.index(j)] = x_train[index][i][j]"
   ]
  },
  {
   "cell_type": "code",
   "execution_count": 9,
   "metadata": {},
   "outputs": [
    {
     "data": {
      "text/plain": [
       "<matplotlib.image.AxesImage at 0x7fec995d7240>"
      ]
     },
     "execution_count": 9,
     "metadata": {},
     "output_type": "execute_result"
    },
    {
     "data": {
      "image/png": "[encoded data removed]",
      "text/plain": [
       "<matplotlib.figure.Figure at 0x7fec9d304f98>"
      ]
     },
     "metadata": {},
     "output_type": "display_data"
    }
   ],
   "source": [
    "import matplotlib.pyplot as plt\n",
    "    \n",
    "plt.imshow(x_train[10], interpolation='nearest')"
   ]
  },
  {
   "cell_type": "code",
   "execution_count": 10,
   "metadata": {},
   "outputs": [
    {
     "data": {
      "text/plain": [
       "<matplotlib.image.AxesImage at 0x7fec9959ecf8>"
      ]
     },
     "execution_count": 10,
     "metadata": {},
     "output_type": "execute_result"
    },
    {
     "data": {
      "image/png": "[encoded data removed]",
      "text/plain": [
       "<matplotlib.figure.Figure at 0x7fec995c0080>"
      ]
     },
     "metadata": {},
     "output_type": "display_data"
    }
   ],
   "source": [
    "plt.imshow(x1_train[10], interpolation='nearest')\n"
   ]
  },
  {
   "cell_type": "code",
   "execution_count": 11,
   "metadata": {},
   "outputs": [
    {
     "data": {
      "text/plain": [
       "<matplotlib.image.AxesImage at 0x7fec99561470>"
      ]
     },
     "execution_count": 11,
     "metadata": {},
     "output_type": "execute_result"
    },
    {
     "data": {
      "image/png": "[encoded data removed]",
      "text/plain": [
       "<matplotlib.figure.Figure at 0x7fec99592be0>"
      ]
     },
     "metadata": {},
     "output_type": "display_data"
    }
   ],
   "source": [
    "plt.imshow(x2_train[10], interpolation='nearest')\n"
   ]
  },
  {
   "cell_type": "code",
   "execution_count": 12,
   "metadata": {},
   "outputs": [
    {
     "data": {
      "text/plain": [
       "<matplotlib.image.AxesImage at 0x7fec9951d828>"
      ]
     },
     "execution_count": 12,
     "metadata": {},
     "output_type": "execute_result"
    },
    {
     "data": {
      "image/png": "[encoded data removed]",
      "text/plain": [
       "<matplotlib.figure.Figure at 0x7fec9956d2e8>"
      ]
     },
     "metadata": {},
     "output_type": "display_data"
    }
   ],
   "source": [
    "plt.imshow(x3_train[10], interpolation='nearest')"
   ]
  },
  {
   "cell_type": "code",
   "execution_count": null,
   "metadata": {},
   "outputs": [],
   "source": [
    "import pickle\n",
    "\n",
    "# write to Pickle\n",
    "pickle.dump(x_train, open( \"cifar_x_train.pkl\", \"wb\" ) )\n",
    "pickle.dump(x1_train, open( \"cifar_x1_train.pkl\", \"wb\" ) )\n",
    "pickle.dump(x2_train, open( \"cifar_x2_train.pkl\", \"wb\" ) )\n",
    "pickle.dump(x3_train, open( \"cifar_x3_train.pkl\", \"wb\" ) )\n",
    "\n",
    "# read from cPickle\n",
    "#x1_train = pickle.load( open( \"x1_train.pkl\", \"rb\" ) )"
   ]
  },
  {
   "cell_type": "code",
   "execution_count": 3,
   "metadata": {},
   "outputs": [
    {
     "data": {
      "text/plain": [
       "array([4], dtype=uint8)"
      ]
     },
     "execution_count": 3,
     "metadata": {},
     "output_type": "execute_result"
    }
   ],
   "source": [
    "y_train[10]"
   ]
  },
  {
   "cell_type": "code",
   "execution_count": null,
   "metadata": {},
   "outputs": [],
   "source": []
  }
 ],
 "metadata": {
  "kernelspec": {
   "display_name": "Python 3",
   "language": "python",
   "name": "python3"
  },
  "language_info": {
   "codemirror_mode": {
    "name": "ipython",
    "version": 3
   },
   "file_extension": ".py",
   "mimetype": "text/x-python",
   "name": "python",
   "nbconvert_exporter": "python",
   "pygments_lexer": "ipython3",
   "version": "3.5.2"
  }
 },
 "nbformat": 4,
 "nbformat_minor": 2
}
