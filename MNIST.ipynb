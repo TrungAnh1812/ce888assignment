{
 "cells": [
  {
   "cell_type": "code",
   "execution_count": 1,
   "metadata": {},
   "outputs": [
    {
     "name": "stderr",
     "output_type": "stream",
     "text": [
      "Using TensorFlow backend.\n"
     ]
    }
   ],
   "source": [
    "#IMPORTING THE MNIST DATA\n",
    "from __future__ import print_function\n",
    "import keras\n",
    "import random as ran\n",
    "import numpy as np\n",
    "import matplotlib.pyplot as plt\n",
    "from keras.datasets import mnist\n",
    "from keras.models import Sequential\n",
    "from keras.layers import Dense, Dropout, Flatten\n",
    "from keras.layers import Conv2D, MaxPooling2D\n",
    "from keras import backend as K\n",
    "\n",
    "batch_size = 128\n",
    "num_classes = 10\n",
    "epochs = 12\n",
    "\n",
    "# input image dimensions\n",
    "img_rows, img_cols = 28, 28\n",
    "\n",
    "# the data, shuffled and split between train and test sets\n",
    "(x_train, y_train), (x_test, y_test) = mnist.load_data()"
   ]
  },
  {
   "cell_type": "code",
   "execution_count": 2,
   "metadata": {},
   "outputs": [],
   "source": [
    "#DISPLAYING FUNCTION\n",
    "def display_digit(num, x_train):\n",
    "    print(y_train[num])\n",
    "    label = y_train[num].argmax(axis=0)\n",
    "    image = x_train[num].reshape([28,28])\n",
    "    plt.title('Example: %d  Label: %d' % (num, label))\n",
    "    plt.imshow(image, cmap=plt.get_cmap('gray_r'))\n",
    "    plt.show()"
   ]
  },
  {
   "cell_type": "code",
   "execution_count": 130,
   "metadata": {},
   "outputs": [],
   "source": [
    "#CREATING THE DATASETS\n",
    "x1_train, y1_train, x1_test, y1_test = x_train.copy(), y_train.copy(), x_test.copy(), y_test.copy()\n",
    "x2_train, y2_train, x2_test, y2_test = x_train.copy(), y_train.copy(), x_test.copy(), y_test.copy()\n",
    "x3_train, y3_train, x3_test, y3_test = x_train.copy(), y_train.copy(), x_test.copy(), y_test.copy()\n",
    "\n",
    "#CREATING THE RANDOM LISTS\n",
    "from sklearn.utils import shuffle\n",
    "\n",
    "rdn_list = list(range(0,28))\n",
    "\n",
    "rdn_list_1 = shuffle(rdn_list)\n",
    "rdn_list_2 = shuffle(rdn_list)\n",
    "rdn_list_3 = shuffle(rdn_list)\n",
    "\n",
    "rdn_list_1\n",
    "rdn_list_2\n",
    "rdn_list_3\n",
    "\n",
    "#CREATING THE SHUFFLE FUNCTION\n",
    "#1 permutation\n",
    "for index in range(0,x_train.shape[0]):\n",
    "    for i in rdn_list_1:\n",
    "        for j in rdn_list_1:\n",
    "            x1_train[index][rdn_list_1.index(i)][rdn_list_1.index(j)] = x_train[index][i][j]\n",
    "\n",
    "\n"
   ]
  },
  {
   "cell_type": "code",
   "execution_count": 137,
   "metadata": {},
   "outputs": [],
   "source": [
    "#2 permutation\n",
    "for index in range(0,x_train.shape[0]):\n",
    "    for i in rdn_list_2:\n",
    "        for j in rdn_list_2:\n",
    "            x2_train[index][rdn_list_2.index(i)][rdn_list_2.index(j)] = x_train[index][i][j]\n",
    "                "
   ]
  },
  {
   "cell_type": "code",
   "execution_count": 138,
   "metadata": {},
   "outputs": [],
   "source": [
    "#3 permutation\n",
    "for index in range(0,x_train.shape[0]):\n",
    "    for i in rdn_list_3:\n",
    "        for j in rdn_list_3:\n",
    "            x3_train[index][rdn_list_3.index(i)][rdn_list_3.index(j)] = x_train[index][i][j]"
   ]
  },
  {
   "cell_type": "code",
   "execution_count": 139,
   "metadata": {},
   "outputs": [
    {
     "name": "stdout",
     "output_type": "stream",
     "text": [
      "3\n"
     ]
    },
    {
     "data": {
      "image/png": "[encoded data removed]",
      "text/plain": [
       "<matplotlib.figure.Figure at 0x7fbd21d52cf8>"
      ]
     },
     "metadata": {},
     "output_type": "display_data"
    },
    {
     "name": "stdout",
     "output_type": "stream",
     "text": [
      "3\n"
     ]
    },
    {
     "data": {
      "image/png": "[encoded data removed]",
      "text/plain": [
       "<matplotlib.figure.Figure at 0x7fbd21d520f0>"
      ]
     },
     "metadata": {},
     "output_type": "display_data"
    },
    {
     "name": "stdout",
     "output_type": "stream",
     "text": [
      "3\n"
     ]
    },
    {
     "data": {
      "image/png": "[encoded data removed]",
      "text/plain": [
       "<matplotlib.figure.Figure at 0x7fbd21d71828>"
      ]
     },
     "metadata": {},
     "output_type": "display_data"
    },
    {
     "name": "stdout",
     "output_type": "stream",
     "text": [
      "3\n"
     ]
    },
    {
     "data": {
      "image/png": "[encoded data removed]",
      "text/plain": [
       "<matplotlib.figure.Figure at 0x7fbd21cf7c88>"
      ]
     },
     "metadata": {},
     "output_type": "display_data"
    }
   ],
   "source": [
    "display_digit(10,x_train)\n",
    "display_digit(10,x1_train)\n",
    "display_digit(10,x2_train)\n",
    "display_digit(10,x3_train)"
   ]
  },
  {
   "cell_type": "code",
   "execution_count": 141,
   "metadata": {},
   "outputs": [],
   "source": [
    "import pickle\n",
    "\n",
    "# write to Pickle\n",
    "pickle.dump(x_train, open( \"mnist_x_train.pkl\", \"wb\" ) )\n",
    "pickle.dump(x1_train, open( \"mnist_x1_train.pkl\", \"wb\" ) )\n",
    "pickle.dump(x2_train, open( \"mnist_x2_train.pkl\", \"wb\" ) )\n",
    "pickle.dump(x3_train, open( \"mnist_x3_train.pkl\", \"wb\" ) )\n",
    "\n",
    "# read from cPickle\n",
    "\n",
    "#x1_train = pickle.load( open( \"x1_train.pkl\", \"rb\" ) )"
   ]
  },
  {
   "cell_type": "code",
   "execution_count": 35,
   "metadata": {},
   "outputs": [],
   "source": []
  },
  {
   "cell_type": "code",
   "execution_count": null,
   "metadata": {},
   "outputs": [],
   "source": []
  },
  {
   "cell_type": "code",
   "execution_count": null,
   "metadata": {},
   "outputs": [],
   "source": []
  },
  {
   "cell_type": "code",
   "execution_count": null,
   "metadata": {},
   "outputs": [],
   "source": []
  },
  {
   "cell_type": "code",
   "execution_count": null,
   "metadata": {},
   "outputs": [],
   "source": []
  },
  {
   "cell_type": "code",
   "execution_count": null,
   "metadata": {},
   "outputs": [],
   "source": []
  }
 ],
 "metadata": {
  "kernelspec": {
   "display_name": "Python 3",
   "language": "python",
   "name": "python3"
  },
  "language_info": {
   "codemirror_mode": {
    "name": "ipython",
    "version": 3
   },
   "file_extension": ".py",
   "mimetype": "text/x-python",
   "name": "python",
   "nbconvert_exporter": "python",
   "pygments_lexer": "ipython3",
   "version": "3.5.2"
  }
 },
 "nbformat": 4,
 "nbformat_minor": 2
}
